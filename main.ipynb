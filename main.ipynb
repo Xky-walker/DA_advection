{
 "cells": [
  {
   "cell_type": "code",
   "execution_count": null,
   "id": "initial_id",
   "metadata": {
    "collapsed": true
   },
   "outputs": [],
   "source": [
    "import matplotlib.pyplot as plt\n",
    "import numpy as np\n",
    "\n",
    "from utils import forward, obj, penalty, grad"
   ]
  },
  {
   "cell_type": "markdown",
   "source": [
    "Computational Domain"
   ],
   "metadata": {
    "collapsed": false
   },
   "id": "1d4039bc63aa5a18"
  },
  {
   "cell_type": "code",
   "execution_count": null,
   "outputs": [],
   "source": [
    "alpha = 0.5\n",
    "beta = 0.00001\n",
    "n_grid = 100\n",
    "n_t = int(n_grid / 1.8)  # CFL = 0.9\n",
    "step_grid = 2 / (n_grid - 1)\n",
    "step_t = 1 / (n_t - 1)  # T = 1\n",
    "x = np.linspace(-1, 1, n_grid)"
   ],
   "metadata": {
    "collapsed": false
   },
   "id": "4b9af6fd6e3aac5e"
  },
  {
   "cell_type": "markdown",
   "source": [
    "Target Parameters in shape (n_grid,)"
   ],
   "metadata": {
    "collapsed": false
   },
   "id": "7548c91c46d8454f"
  },
  {
   "cell_type": "code",
   "execution_count": null,
   "outputs": [],
   "source": [
    "g_data = 0.5 * np.ones(n_grid)\n",
    "for i in range(n_grid):\n",
    "    if -0.5 <= i * step_grid - 1 <= 0:\n",
    "        g_data[i] = 1\n",
    "u_data = forward(g_data, n_t, step_t, n_grid, step_grid)"
   ],
   "metadata": {
    "collapsed": false
   },
   "id": "7e4da244b09c8795"
  },
  {
   "cell_type": "markdown",
   "source": [
    "Adjoint & Sequential Least Squares Programming"
   ],
   "metadata": {
    "collapsed": false
   },
   "id": "5d1d6fb78781c9bd"
  },
  {
   "cell_type": "code",
   "execution_count": null,
   "outputs": [],
   "source": [
    "g0 = 0.5 * np.ones(n_grid)\n",
    "for i in range(100):\n",
    "    gradient = grad(g0, n_t, step_t, n_grid, step_grid, u_data, alpha, beta)\n",
    "    norm_grad = np.linalg.norm(gradient)\n",
    "    if norm_grad < 1e-3:\n",
    "        break\n",
    "    else:\n",
    "        g0 = g0 - 0.1 * gradient / norm_grad\n",
    "        print(f'Iteration {i}, ||grad|| = {np.max(gradient / norm_grad)}')"
   ],
   "metadata": {
    "collapsed": false
   },
   "id": "d14176ba22f27e1c"
  },
  {
   "cell_type": "code",
   "execution_count": null,
   "outputs": [],
   "source": [
    "g_res = g0\n",
    "u_res = forward(g_res, n_t, step_t, n_grid, step_grid)\n",
    "print(f'J: {obj(u_res, u_data, step_grid) + penalty(g_res, n_grid, step_grid, beta)}')\n",
    "print(norm_grad)\n",
    "\n",
    "plt.subplot(1, 2, 1)\n",
    "plt.plot(x, g_data, label='$g_d$')\n",
    "plt.plot(x, g_res, label='$g_{adjoint}$')\n",
    "plt.legend()\n",
    "\n",
    "plt.subplot(1, 2, 2)\n",
    "plt.plot(x, u_data, label='$u_d$')\n",
    "plt.plot(x, u_res, label='$u_{adjoint}$')\n",
    "plt.legend()\n",
    "\n",
    "plt.suptitle(f'Grid:{n_grid}')\n",
    "plt.show()"
   ],
   "metadata": {
    "collapsed": false
   },
   "id": "e33a6b6d5e2cd74f"
  }
 ],
 "metadata": {
  "kernelspec": {
   "display_name": "Python 3",
   "language": "python",
   "name": "python3"
  },
  "language_info": {
   "codemirror_mode": {
    "name": "ipython",
    "version": 2
   },
   "file_extension": ".py",
   "mimetype": "text/x-python",
   "name": "python",
   "nbconvert_exporter": "python",
   "pygments_lexer": "ipython2",
   "version": "2.7.6"
  }
 },
 "nbformat": 4,
 "nbformat_minor": 5
}
